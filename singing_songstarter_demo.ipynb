{
  "nbformat": 4,
  "nbformat_minor": 0,
  "metadata": {
    "colab": {
      "provenance": [],
      "machine_shape": "hm",
      "gpuType": "A100",
      "authorship_tag": "ABX9TyMm+2HEY3Dh8UBT+NJ/CIoa",
      "include_colab_link": true
    },
    "kernelspec": {
      "name": "python3",
      "display_name": "Python 3"
    },
    "language_info": {
      "name": "python"
    },
    "accelerator": "GPU"
  },
  "cells": [
    {
      "cell_type": "markdown",
      "metadata": {
        "id": "view-in-github",
        "colab_type": "text"
      },
      "source": [
        "<a href=\"https://colab.research.google.com/github/nateraw/singing-songstarter/blob/main/singing_songstarter_demo.ipynb\" target=\"_parent\"><img src=\"https://colab.research.google.com/assets/colab-badge.svg\" alt=\"Open In Colab\"/></a>"
      ]
    },
    {
      "cell_type": "markdown",
      "source": [
        "# Singing Songstarter Demo\n",
        "\n",
        "This is a demo of using [`musicgen-songstarter-v0.2`](https://hf.co/nateraw/musicgen-songstarter-v0.2), a large stereo musicgen trained to be useful for music producers, for the task of voice-to-music.\n",
        "\n",
        "**Hum an idea, get a music sample!** 🚀\n",
        "\n",
        "### Usage\n",
        "\n",
        "1. Run the cell below.\n",
        "\n",
        "2. You can ignore \"restart this runtime\" message when it pops up\n",
        "3. Click the public share link. Should look like: `\"Running on public URL: https://<your-link-here>\"`\n",
        "4. Enjoy 🔥\n",
        "\n",
        "\n",
        "### If you think this notebook is cool, consider supporting me by:\n",
        "  - giving [the model](https://hf.co/nateraw/musicgen-songstarter-v0.2) a heart on Hugging Face ❤️\n",
        "  - following me on [GitHub](https://github.com/nateraw) 👨‍💻\n",
        "  - following me on [X/twitter](https://twitter.com/nateraw) X\n",
        "  - giving [the demo repo](https://github.com/nateraw/singing-songstarter) a star ⭐️\n",
        "\n",
        "If you have any questions/concerns about this demo, please [file an issue on GitHub](https://github.com/nateraw/singing-songstarter)."
      ],
      "metadata": {
        "id": "hBsE8AuVsgG8"
      }
    },
    {
      "cell_type": "code",
      "execution_count": null,
      "metadata": {
        "id": "-fw0bpXysAUG"
      },
      "outputs": [],
      "source": [
        "%cd /content\n",
        "! git clone https://github.com/nateraw/singing-songstarter\n",
        "%cd /content/singing-songstarter\n",
        "! pip install -r requirements.txt\n",
        "! python app.py --share --debug"
      ]
    }
  ]
}